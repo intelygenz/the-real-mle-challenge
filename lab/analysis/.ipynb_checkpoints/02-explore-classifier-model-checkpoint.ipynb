{
 "cells": [
  {
   "cell_type": "markdown",
   "id": "456c039a",
   "metadata": {},
   "source": [
    "# Preliminary model for classification"
   ]
  },
  {
   "cell_type": "markdown",
   "id": "88c2f0d3",
   "metadata": {},
   "source": [
    "This notebook aims to develop a preliminary version of a classifier for the challenge."
   ]
  },
  {
   "cell_type": "code",
   "execution_count": null,
   "id": "7d97dfb0",
   "metadata": {},
   "outputs": [],
   "source": [
    "import os\n",
    "from pathlib import Path\n",
    "\n",
    "from matplotlib import pyplot as plt\n",
    "import numpy as np\n",
    "import pandas as pd\n",
    "\n",
    "import seaborn as sns\n",
    "from sklearn.ensemble import RandomForestClassifier\n",
    "from sklearn.metrics import accuracy_score, roc_auc_score, classification_report, confusion_matrix\n",
    "from sklearn.model_selection import train_test_split\n",
    "\n",
    "import pickle"
   ]
  },
  {
   "cell_type": "markdown",
   "id": "684877bc",
   "metadata": {},
   "source": [
    "## Access processed data"
   ]
  },
  {
   "cell_type": "code",
   "execution_count": null,
   "id": "b3045f11",
   "metadata": {},
   "outputs": [],
   "source": [
    "DIR_REPO = Path.cwd().parent.parent\n",
    "DIR_DATA_PROCESSED = Path(DIR_REPO) / \"data\" / \"processed\"\n",
    "DIR_MODELS = Path(DIR_REPO) / \"models\"\n",
    "\n",
    "os.listdir(DIR_DATA_PROCESSED)"
   ]
  },
  {
   "cell_type": "code",
   "execution_count": null,
   "id": "cd7a8eaa",
   "metadata": {},
   "outputs": [],
   "source": [
    "FILEPATH_PROCESSED = DIR_DATA_PROCESSED / \"preprocessed_listings.csv\""
   ]
  },
  {
   "cell_type": "code",
   "execution_count": null,
   "id": "73c6edbd",
   "metadata": {},
   "outputs": [],
   "source": [
    "df = pd.read_csv(FILEPATH_PROCESSED, index_col=0)\n",
    "df.head()"
   ]
  },
  {
   "cell_type": "code",
   "execution_count": null,
   "id": "d25b3c1e",
   "metadata": {},
   "outputs": [],
   "source": [
    "df = df.dropna(axis=0)"
   ]
  },
  {
   "cell_type": "code",
   "execution_count": null,
   "id": "04890929",
   "metadata": {},
   "outputs": [],
   "source": [
    "df.columns"
   ]
  },
  {
   "cell_type": "markdown",
   "id": "d7bd841d",
   "metadata": {},
   "source": [
    "## Convert string to categorical variable"
   ]
  },
  {
   "cell_type": "code",
   "execution_count": null,
   "id": "d5b18ca0",
   "metadata": {},
   "outputs": [],
   "source": [
    "# Categorical variable mapping dictionaries\n",
    "MAP_ROOM_TYPE = {\"Shared room\": 1, \"Private room\": 2, \"Entire home/apt\": 3, \"Hotel room\": 4}\n",
    "MAP_NEIGHB = {\"Bronx\": 1, \"Queens\": 2, \"Staten Island\": 3, \"Brooklyn\": 4, \"Manhattan\": 5}"
   ]
  },
  {
   "cell_type": "code",
   "execution_count": null,
   "id": "196eba7c",
   "metadata": {},
   "outputs": [],
   "source": [
    "# Map categorical features\n",
    "df[\"neighbourhood\"] = df[\"neighbourhood\"].map(MAP_NEIGHB)\n",
    "df[\"room_type\"] = df[\"room_type\"].map(MAP_ROOM_TYPE)"
   ]
  },
  {
   "cell_type": "markdown",
   "id": "c39a6acb",
   "metadata": {},
   "source": [
    "## Split data for cross-validation"
   ]
  },
  {
   "cell_type": "code",
   "execution_count": null,
   "id": "c627e777",
   "metadata": {},
   "outputs": [],
   "source": [
    "FEATURE_NAMES = ['neighbourhood', 'room_type', 'accommodates', 'bathrooms', 'bedrooms']\n",
    "\n",
    "X = df[FEATURE_NAMES]\n",
    "y = df['category']"
   ]
  },
  {
   "cell_type": "code",
   "execution_count": null,
   "id": "37331db0",
   "metadata": {},
   "outputs": [],
   "source": [
    "X_train, X_test, y_train, y_test = train_test_split(X, y, test_size=0.15, random_state=1)"
   ]
  },
  {
   "cell_type": "markdown",
   "id": "2f69c8ce",
   "metadata": {},
   "source": [
    "## A simple classifier model"
   ]
  },
  {
   "cell_type": "markdown",
   "id": "43da3fd8",
   "metadata": {},
   "source": [
    "### Train the model"
   ]
  },
  {
   "cell_type": "code",
   "execution_count": null,
   "id": "57111781",
   "metadata": {},
   "outputs": [],
   "source": [
    "clf = RandomForestClassifier(n_estimators=500, random_state=0, class_weight='balanced', n_jobs=4)\n",
    "clf.fit(X_train, y_train)"
   ]
  },
  {
   "cell_type": "markdown",
   "id": "50ecc3f8",
   "metadata": {},
   "source": [
    "### Evaluate the model"
   ]
  },
  {
   "cell_type": "code",
   "execution_count": null,
   "id": "7ef5e521",
   "metadata": {},
   "outputs": [],
   "source": [
    "y_pred = clf.predict(X_test)"
   ]
  },
  {
   "cell_type": "code",
   "execution_count": null,
   "id": "f6f8bb8d",
   "metadata": {},
   "outputs": [],
   "source": [
    "# Compute overall accuracy\n",
    "accuracy_score(y_test, y_pred)"
   ]
  },
  {
   "cell_type": "code",
   "execution_count": null,
   "id": "f2b1ea4b",
   "metadata": {},
   "outputs": [],
   "source": [
    "# Compute overall one-versus-rest area under the ROC\n",
    "\n",
    "y_proba = clf.predict_proba(X_test)\n",
    "roc_auc_score(y_test, y_proba, multi_class='ovr')"
   ]
  },
  {
   "cell_type": "code",
   "execution_count": null,
   "id": "ee0bfc13",
   "metadata": {},
   "outputs": [],
   "source": [
    "importances = clf.feature_importances_\n",
    "indices = np.argsort(importances)[::-1]\n",
    "features = X_train.columns[indices]\n",
    "importances = importances[indices]\n",
    "\n",
    "fig, ax = plt.subplots(figsize=(12, 7))\n",
    "plt.barh(range(len(importances)), importances)\n",
    "plt.yticks(range(len(importances)), features, fontsize=12)\n",
    "ax.invert_yaxis()\n",
    "ax.set_xlabel(\"Feature importance\", fontsize=12)\n",
    "\n",
    "plt.show()"
   ]
  },
  {
   "cell_type": "code",
   "execution_count": null,
   "id": "92889c4f",
   "metadata": {},
   "outputs": [],
   "source": [
    "classes = [0, 1, 2, 3]\n",
    "labels = ['low', 'mid', 'high', 'lux']\n",
    "\n",
    "c = confusion_matrix(y_test, y_pred)\n",
    "c = c / c.sum(axis=1).reshape(len(classes), 1)\n",
    "\n",
    "# Plot\n",
    "fig, ax = plt.subplots(figsize=(10, 10))\n",
    "sns.heatmap(c, annot=True, cmap='BuGn', square=True, fmt='.2f', annot_kws={'size': 10}, cbar=False)\n",
    "plt.xlabel('Predicted', fontsize=16)\n",
    "plt.ylabel('Real', fontsize=16)\n",
    "plt.xticks(ticks=np.arange(.5, len(classes)), labels=labels, rotation=0, fontsize=12)\n",
    "plt.yticks(ticks=np.arange(.5, len(classes)), labels=labels, rotation=0, fontsize=12)\n",
    "plt.title(\"Simple model\", fontsize=18)\n",
    "\n",
    "plt.show()"
   ]
  },
  {
   "cell_type": "code",
   "execution_count": null,
   "id": "f8a83fc9",
   "metadata": {},
   "outputs": [],
   "source": [
    "maps = {'0.0': 'low', '1.0': 'mid', '2.0': 'high', '3.0': 'lux'}\n",
    "\n",
    "report = classification_report(y_test, y_pred, output_dict=True)\n",
    "df_report = pd.DataFrame.from_dict(report).T[:-3]\n",
    "df_report.index = [maps[i] for i in df_report.index]\n",
    "df_report"
   ]
  },
  {
   "cell_type": "code",
   "execution_count": null,
   "id": "b6f1dd1b",
   "metadata": {},
   "outputs": [],
   "source": [
    "metrics = ['precision', 'recall', 'support']\n",
    "\n",
    "fig, axes = plt.subplots(1, len(metrics), figsize=(16, 7))\n",
    "\n",
    "for i, ax in enumerate(axes):\n",
    "\n",
    "    ax.barh(df_report.index, df_report[metrics[i]], alpha=0.9)\n",
    "    ax.tick_params(axis='both', which='major', labelsize=12)\n",
    "    ax.set_xlabel(metrics[i], fontsize=12)\n",
    "    ax.invert_yaxis()\n",
    "    ax.spines['top'].set_visible(False)\n",
    "    ax.spines['right'].set_visible(False)\n",
    "\n",
    "plt.suptitle(\"Simple model\", fontsize=14)\n",
    "plt.show()"
   ]
  },
  {
   "cell_type": "code",
   "execution_count": null,
   "id": "570e11dc",
   "metadata": {},
   "outputs": [],
   "source": [
    "pickle.dump(clf, open(DIR_MODELS / \"simple_classifier.pkl\", 'wb'))"
   ]
  },
  {
   "cell_type": "code",
   "execution_count": null,
   "id": "c8f7f871-ad9e-4db6-a2b4-59f036ef4d2f",
   "metadata": {},
   "outputs": [],
   "source": []
  }
 ],
 "metadata": {
  "kernelspec": {
   "display_name": "Python 3 (ipykernel)",
   "language": "python",
   "name": "python3"
  },
  "language_info": {
   "codemirror_mode": {
    "name": "ipython",
    "version": 3
   },
   "file_extension": ".py",
   "mimetype": "text/x-python",
   "name": "python",
   "nbconvert_exporter": "python",
   "pygments_lexer": "ipython3",
   "version": "3.12.1"
  }
 },
 "nbformat": 4,
 "nbformat_minor": 5
}
