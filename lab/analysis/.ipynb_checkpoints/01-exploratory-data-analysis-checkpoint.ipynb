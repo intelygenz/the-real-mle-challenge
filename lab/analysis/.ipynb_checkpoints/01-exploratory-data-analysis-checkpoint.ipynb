{
 "cells": [
  {
   "cell_type": "markdown",
   "id": "c4d42173",
   "metadata": {},
   "source": [
    "# Exploratory data analysis"
   ]
  },
  {
   "cell_type": "markdown",
   "id": "7270417d",
   "metadata": {},
   "source": [
    "The goal of this notebook is to perform an initial data exploration and explore the preprocessing operations required to generate a clean dataset for modeling."
   ]
  },
  {
   "cell_type": "code",
   "execution_count": null,
   "id": "9d26deae",
   "metadata": {},
   "outputs": [],
   "source": [
    "import os\n",
    "from pathlib import Path\n",
    "\n",
    "from matplotlib import pyplot as plt\n",
    "import numpy as np\n",
    "import pandas as pd\n",
    "from pandas import DataFrame\n",
    "\n",
    "pd.set_option('display.max_columns', 150)"
   ]
  },
  {
   "cell_type": "markdown",
   "id": "3f0f1048",
   "metadata": {},
   "source": [
    "## Access data"
   ]
  },
  {
   "cell_type": "markdown",
   "id": "f65f1068",
   "metadata": {},
   "source": [
    "Raw dataset for the project is available on \"data\" folder."
   ]
  },
  {
   "cell_type": "code",
   "execution_count": null,
   "id": "6c94d255",
   "metadata": {},
   "outputs": [],
   "source": [
    "DIR_REPO = Path.cwd().parent.parent\n",
    "DIR_DATA_RAW = Path(DIR_REPO) / \"data\" / \"raw\""
   ]
  },
  {
   "cell_type": "code",
   "execution_count": null,
   "id": "89a28c20",
   "metadata": {},
   "outputs": [],
   "source": [
    "os.listdir(DIR_DATA_RAW)"
   ]
  },
  {
   "cell_type": "markdown",
   "id": "da94fb1b",
   "metadata": {},
   "source": [
    "This is the file as downloaded from [Inside Airbnb](http://insideairbnb.com/get-the-data.html) under the Creative Commons Universal licence (CC0 1.0)."
   ]
  },
  {
   "cell_type": "code",
   "execution_count": null,
   "id": "b5e99264",
   "metadata": {},
   "outputs": [],
   "source": [
    "FILEPATH_DATA = DIR_DATA_RAW / \"listings.csv\""
   ]
  },
  {
   "cell_type": "code",
   "execution_count": null,
   "id": "7089479e",
   "metadata": {},
   "outputs": [],
   "source": [
    "df_raw = pd.read_csv(FILEPATH_DATA)\n",
    "df_raw.head()"
   ]
  },
  {
   "cell_type": "markdown",
   "id": "b9ca23fd",
   "metadata": {},
   "source": [
    "## Explore data processing"
   ]
  },
  {
   "cell_type": "code",
   "execution_count": null,
   "id": "c7133e61",
   "metadata": {},
   "outputs": [],
   "source": [
    "print(\"Shape: \", df_raw.shape)\n",
    "print(\"Columns: \", df_raw.columns)"
   ]
  },
  {
   "cell_type": "code",
   "execution_count": null,
   "id": "b61ad4b8",
   "metadata": {},
   "outputs": [],
   "source": [
    "df_raw.describe()"
   ]
  },
  {
   "cell_type": "markdown",
   "id": "bd8b02f9",
   "metadata": {},
   "source": [
    "### Select columns"
   ]
  },
  {
   "cell_type": "code",
   "execution_count": null,
   "id": "fc95f3c2",
   "metadata": {},
   "outputs": [],
   "source": [
    "df_raw.drop(columns=['bathrooms'], inplace=True)"
   ]
  },
  {
   "cell_type": "code",
   "execution_count": null,
   "id": "42a2e476",
   "metadata": {},
   "outputs": [],
   "source": [
    "# Get number of bathrooms from `bathrooms_text`\n",
    "def num_bathroom_from_text(text):\n",
    "    try:\n",
    "        if isinstance(text, str):\n",
    "            bath_num = text.split(\" \")[0]\n",
    "            return float(bath_num)\n",
    "        else:\n",
    "            return np.nan\n",
    "    except ValueError:\n",
    "        return np.nan"
   ]
  },
  {
   "cell_type": "code",
   "execution_count": null,
   "id": "1dd4714c",
   "metadata": {},
   "outputs": [],
   "source": [
    "df_raw['bathrooms'] = df_raw['bathrooms_text'].apply(num_bathroom_from_text)"
   ]
  },
  {
   "cell_type": "markdown",
   "id": "3cd5e278",
   "metadata": {},
   "source": [
    "For an initial model, we are only going to use a small subset of the columns."
   ]
  },
  {
   "cell_type": "code",
   "execution_count": null,
   "id": "b7db4b89",
   "metadata": {},
   "outputs": [],
   "source": [
    "COLUMNS = ['id', 'neighbourhood_group_cleansed', 'property_type', 'room_type', 'latitude', 'longitude', 'accommodates', 'bathrooms', 'bedrooms', 'beds','amenities', 'price']"
   ]
  },
  {
   "cell_type": "code",
   "execution_count": null,
   "id": "b0fa9e36",
   "metadata": {},
   "outputs": [],
   "source": [
    "df = df_raw[COLUMNS].copy()\n",
    "df.rename(columns={'neighbourhood_group_cleansed': 'neighbourhood'}, inplace=True)\n",
    "df.head()"
   ]
  },
  {
   "cell_type": "markdown",
   "id": "1981e984",
   "metadata": {},
   "source": [
    "### Check for missing values"
   ]
  },
  {
   "cell_type": "code",
   "execution_count": null,
   "id": "2328be6d",
   "metadata": {},
   "outputs": [],
   "source": [
    "df.isna().sum()"
   ]
  },
  {
   "cell_type": "code",
   "execution_count": null,
   "id": "21000bb6",
   "metadata": {},
   "outputs": [],
   "source": [
    "df = df.dropna(axis=0)"
   ]
  },
  {
   "cell_type": "markdown",
   "id": "80c9f3aa",
   "metadata": {},
   "source": [
    "### Check the target variable"
   ]
  },
  {
   "cell_type": "code",
   "execution_count": null,
   "id": "e0fc849a",
   "metadata": {},
   "outputs": [],
   "source": [
    "# Convert string to numeric\n",
    "df['price'] = df['price'].str.extract(r\"(\\d+).\")\n",
    "df['price'] = df['price'].astype(int)"
   ]
  },
  {
   "cell_type": "code",
   "execution_count": null,
   "id": "4119b58f",
   "metadata": {},
   "outputs": [],
   "source": [
    "# Summary statistics\n",
    "df['price'].describe()"
   ]
  },
  {
   "cell_type": "code",
   "execution_count": null,
   "id": "e3d98918",
   "metadata": {},
   "outputs": [],
   "source": [
    "# Plot price distribution\n",
    "\n",
    "fontsize_labels = 12\n",
    "\n",
    "fig, ax = plt.subplots(figsize=(12, 6))\n",
    "ax.hist(df['price'], bins=range(0, max(df['price']), 10))\n",
    "ax.grid(alpha=0.2)\n",
    "ax.set_title('Price distribution', fontsize=fontsize_labels)\n",
    "ax.set_ylabel('Number of properties', fontsize=fontsize_labels)\n",
    "ax.set_xlabel('Price ($)', fontsize=fontsize_labels)\n",
    "plt.show()"
   ]
  },
  {
   "cell_type": "markdown",
   "id": "1bf7aa02",
   "metadata": {},
   "source": [
    "Remove the listings where price is between 0 and 10 dollars."
   ]
  },
  {
   "cell_type": "code",
   "execution_count": null,
   "id": "147ce4ba",
   "metadata": {},
   "outputs": [],
   "source": [
    "df = df[df['price'] >= 10]"
   ]
  },
  {
   "cell_type": "code",
   "execution_count": null,
   "id": "b9e0fbe6",
   "metadata": {},
   "outputs": [],
   "source": [
    "# Break down by neighbourhood:\n",
    "\n",
    "fig, (ax1, ax2, ax3, ax4, ax5) = plt.subplots(5, 1, figsize=(14, 10), sharex=True)\n",
    "\n",
    "axes = [ax1, ax2, ax3, ax4, ax5]\n",
    "neighbourhood = ['Manhattan', 'Brooklyn', 'Queens', 'Staten Island', 'Bronx']\n",
    "\n",
    "for i, ax in enumerate(axes):\n",
    "    values = df[df['neighbourhood'] == neighbourhood[i]]['price']\n",
    "    avg = round(values.mean(), 1)\n",
    "    ax.hist(values, bins=range(0, max(df['price']), 20))\n",
    "    ax.spines['top'].set_visible(False)\n",
    "    ax.spines['right'].set_visible(False)\n",
    "    ax.set_title(f'{neighbourhood[i]}. Avg price: ${avg}', fontsize=fontsize_labels)\n",
    "    ax.set_ylabel('Count', fontsize=fontsize_labels)\n",
    "\n",
    "ax.set_xlabel('Price ($)', fontsize=fontsize_labels)\n",
    "\n",
    "plt.tight_layout()\n",
    "plt.show()"
   ]
  },
  {
   "cell_type": "code",
   "execution_count": null,
   "id": "fef68bd1",
   "metadata": {},
   "outputs": [],
   "source": [
    "# Create a categorical price column corresponding to Low ($0-$90), Mid ($90-$180), High ($180-$400) and Luxury ($400+) properties\n",
    "\n",
    "df['category'] = pd.cut(df['price'], bins=[10, 90, 180, 400, np.inf], labels=[0, 1, 2, 3])\n",
    "df.head()"
   ]
  },
  {
   "cell_type": "code",
   "execution_count": null,
   "id": "f5f4eec9",
   "metadata": {},
   "outputs": [],
   "source": [
    "df['category'].value_counts()"
   ]
  },
  {
   "cell_type": "markdown",
   "id": "1b42fbe0",
   "metadata": {},
   "source": [
    "### Extract column information for amenities"
   ]
  },
  {
   "cell_type": "code",
   "execution_count": null,
   "id": "ed47aaa8",
   "metadata": {},
   "outputs": [],
   "source": [
    "def preprocess_amenities_column(df: DataFrame) -> DataFrame:\n",
    "    \n",
    "    df['TV'] = df['amenities'].str.contains('TV')\n",
    "    df['TV'] = df['TV'].astype(int)\n",
    "    df['Internet'] = df['amenities'].str.contains('Internet')\n",
    "    df['Internet'] = df['Internet'].astype(int)\n",
    "    df['Air_conditioning'] = df['amenities'].str.contains('Air conditioning')\n",
    "    df['Air_conditioning'] = df['Air_conditioning'].astype(int)\n",
    "    df['Kitchen'] = df['amenities'].str.contains('Kitchen')\n",
    "    df['Kitchen'] = df['Kitchen'].astype(int)\n",
    "    df['Heating'] = df['amenities'].str.contains('Heating')\n",
    "    df['Heating'] = df['Heating'].astype(int)\n",
    "    df['Wifi'] = df['amenities'].str.contains('Wifi')\n",
    "    df['Wifi'] = df['Wifi'].astype(int)\n",
    "    df['Elevator'] = df['amenities'].str.contains('Elevator')\n",
    "    df['Elevator'] = df['Elevator'].astype(int)\n",
    "    df['Breakfast'] = df['amenities'].str.contains('Breakfast')\n",
    "    df['Breakfast'] = df['Breakfast'].astype(int)\n",
    "\n",
    "    df.drop('amenities', axis=1, inplace=True)\n",
    "    \n",
    "    return df\n",
    "\n",
    "\n",
    "df = preprocess_amenities_column(df)\n",
    "df.head()"
   ]
  },
  {
   "cell_type": "code",
   "execution_count": null,
   "id": "f014a9ee",
   "metadata": {},
   "outputs": [],
   "source": [
    "DIR_DATA_PROCESSED = Path(DIR_REPO) / \"data\" / \"processed\"\n",
    "FILEPATH_DATA = DIR_DATA_PROCESSED / \"preprocessed_listings.csv\"\n",
    "\n",
    "df.to_csv(FILEPATH_DATA)"
   ]
  },
  {
   "cell_type": "code",
   "execution_count": null,
   "id": "8c4138a1",
   "metadata": {},
   "outputs": [],
   "source": [
    "df.info()"
   ]
  },
  {
   "cell_type": "code",
   "execution_count": null,
   "id": "82990e48-ac0a-4859-9f5c-cd03743171ed",
   "metadata": {},
   "outputs": [],
   "source": [
    "df.head()"
   ]
  },
  {
   "cell_type": "code",
   "execution_count": null,
   "id": "793d555f-aec0-4322-8e5f-160ac3f13e9f",
   "metadata": {},
   "outputs": [],
   "source": [
    "df.isna().sum()"
   ]
  },
  {
   "cell_type": "code",
   "execution_count": null,
   "id": "151f93f5-cb24-4aa6-80ee-421aa498dee3",
   "metadata": {},
   "outputs": [],
   "source": []
  }
 ],
 "metadata": {
  "kernelspec": {
   "display_name": "Python 3 (ipykernel)",
   "language": "python",
   "name": "python3"
  },
  "language_info": {
   "codemirror_mode": {
    "name": "ipython",
    "version": 3
   },
   "file_extension": ".py",
   "mimetype": "text/x-python",
   "name": "python",
   "nbconvert_exporter": "python",
   "pygments_lexer": "ipython3",
   "version": "3.12.1"
  }
 },
 "nbformat": 4,
 "nbformat_minor": 5
}
